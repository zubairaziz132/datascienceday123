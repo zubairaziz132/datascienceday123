{
 "cells": [
  {
   "cell_type": "code",
   "execution_count": 1,
   "id": "fad5813f-08e3-45a1-9b11-8fd4886f70f1",
   "metadata": {},
   "outputs": [],
   "source": [
    "a=10"
   ]
  },
  {
   "cell_type": "code",
   "execution_count": 2,
   "id": "cf87746b-b882-4317-94ea-38b16d1a2ba0",
   "metadata": {},
   "outputs": [
    {
     "data": {
      "text/plain": [
       "10"
      ]
     },
     "execution_count": 2,
     "metadata": {},
     "output_type": "execute_result"
    }
   ],
   "source": [
    "a"
   ]
  },
  {
   "cell_type": "code",
   "execution_count": 3,
   "id": "130dae19-6c30-4c6f-ab1c-9c105ce335de",
   "metadata": {},
   "outputs": [],
   "source": [
    "a=10"
   ]
  },
  {
   "cell_type": "code",
   "execution_count": 4,
   "id": "a4ae0382-a88f-4a61-a8b7-f0593783d3e8",
   "metadata": {},
   "outputs": [],
   "source": [
    "a=10"
   ]
  },
  {
   "cell_type": "code",
   "execution_count": 6,
   "id": "c6da6885-1e68-4747-b13a-f5fc2b0b9f73",
   "metadata": {},
   "outputs": [],
   "source": [
    "##compiler understands while \n",
    "##we write to know about data type..."
   ]
  },
  {
   "cell_type": "code",
   "execution_count": 7,
   "id": "bf0457c4-f7d2-4671-b12a-682f8de7fa6f",
   "metadata": {},
   "outputs": [],
   "source": [
    "a='c'"
   ]
  },
  {
   "cell_type": "code",
   "execution_count": 9,
   "id": "297f36d6-dfc7-40a4-8676-77221c7873e7",
   "metadata": {},
   "outputs": [
    {
     "data": {
      "text/plain": [
       "str"
      ]
     },
     "execution_count": 9,
     "metadata": {},
     "output_type": "execute_result"
    }
   ],
   "source": [
    "type(a)"
   ]
  },
  {
   "cell_type": "code",
   "execution_count": 10,
   "id": "1f09bae3-3be0-45ec-ab1b-875f39430243",
   "metadata": {},
   "outputs": [],
   "source": [
    "#there is no character data type...only string data type\n"
   ]
  },
  {
   "cell_type": "code",
   "execution_count": 11,
   "id": "e74d2d74-bcbf-4e47-b25f-5aa90035ab92",
   "metadata": {},
   "outputs": [],
   "source": [
    "#Typecasting:"
   ]
  },
  {
   "cell_type": "code",
   "execution_count": 12,
   "id": "276763fe-c57d-4627-8921-a8f8f0f9c43a",
   "metadata": {},
   "outputs": [
    {
     "data": {
      "text/plain": [
       "int"
      ]
     },
     "execution_count": 12,
     "metadata": {},
     "output_type": "execute_result"
    }
   ],
   "source": [
    "int"
   ]
  },
  {
   "cell_type": "code",
   "execution_count": 13,
   "id": "8b67d451-b1cc-4d02-875f-bec524c58879",
   "metadata": {},
   "outputs": [
    {
     "data": {
      "text/plain": [
       "0"
      ]
     },
     "execution_count": 13,
     "metadata": {},
     "output_type": "execute_result"
    }
   ],
   "source": [
    "int()"
   ]
  },
  {
   "cell_type": "code",
   "execution_count": 14,
   "id": "718067bd-da11-47c0-b214-107a6865a681",
   "metadata": {},
   "outputs": [
    {
     "ename": "ValueError",
     "evalue": "invalid literal for int() with base 10: 'c'",
     "output_type": "error",
     "traceback": [
      "\u001b[0;31m---------------------------------------------------------------------------\u001b[0m",
      "\u001b[0;31mValueError\u001b[0m                                Traceback (most recent call last)",
      "Cell \u001b[0;32mIn[14], line 1\u001b[0m\n\u001b[0;32m----> 1\u001b[0m \u001b[38;5;28;43mint\u001b[39;49m\u001b[43m(\u001b[49m\u001b[43ma\u001b[49m\u001b[43m)\u001b[49m\n",
      "\u001b[0;31mValueError\u001b[0m: invalid literal for int() with base 10: 'c'"
     ]
    }
   ],
   "source": [
    "int(a)"
   ]
  },
  {
   "cell_type": "code",
   "execution_count": 15,
   "id": "1e95cb00-66f8-4515-8595-f4e394af4dd1",
   "metadata": {},
   "outputs": [
    {
     "data": {
      "text/plain": [
       "123"
      ]
     },
     "execution_count": 15,
     "metadata": {},
     "output_type": "execute_result"
    }
   ],
   "source": [
    "int('123')"
   ]
  },
  {
   "cell_type": "code",
   "execution_count": 16,
   "id": "6f52fefe-42da-432f-bf47-70ca8eba3300",
   "metadata": {},
   "outputs": [],
   "source": [
    "#number strings can be oconverted easily"
   ]
  },
  {
   "cell_type": "code",
   "execution_count": 17,
   "id": "ad33ce01-2551-478e-8a50-4a09ffa65ed4",
   "metadata": {},
   "outputs": [
    {
     "ename": "SyntaxError",
     "evalue": "incomplete input (149104261.py, line 1)",
     "output_type": "error",
     "traceback": [
      "\u001b[0;36m  Cell \u001b[0;32mIn[17], line 1\u001b[0;36m\u001b[0m\n\u001b[0;31m    print(\u001b[0m\n\u001b[0m          ^\u001b[0m\n\u001b[0;31mSyntaxError\u001b[0m\u001b[0;31m:\u001b[0m incomplete input\n"
     ]
    }
   ],
   "source": [
    "print("
   ]
  },
  {
   "cell_type": "code",
   "execution_count": 18,
   "id": "31fe1b7a-6910-4cca-a487-03f680ae0b06",
   "metadata": {},
   "outputs": [
    {
     "name": "stdout",
     "output_type": "stream",
     "text": [
      "heloo world\n"
     ]
    }
   ],
   "source": [
    "print(\"heloo world\")"
   ]
  },
  {
   "cell_type": "code",
   "execution_count": 19,
   "id": "720f8fc0-ab3a-47ef-ba90-85874cdffe3c",
   "metadata": {},
   "outputs": [
    {
     "name": "stdout",
     "output_type": "stream",
     "text": [
      "123\n"
     ]
    }
   ],
   "source": [
    "print(123)"
   ]
  },
  {
   "cell_type": "code",
   "execution_count": 20,
   "id": "d3848992-1ad3-4f12-9f7a-8cde02469fbf",
   "metadata": {},
   "outputs": [
    {
     "name": "stdout",
     "output_type": "stream",
     "text": [
      "my age is: 37\n"
     ]
    }
   ],
   "source": [
    "myage=37\n",
    "print(\"my age is:\",myage)"
   ]
  },
  {
   "cell_type": "code",
   "execution_count": 23,
   "id": "107d6c4d-b437-4fb9-bcd1-cb6b1662b940",
   "metadata": {},
   "outputs": [
    {
     "ename": "SyntaxError",
     "evalue": "unterminated string literal (detected at line 1) (3373312106.py, line 1)",
     "output_type": "error",
     "traceback": [
      "\u001b[0;36m  Cell \u001b[0;32mIn[23], line 1\u001b[0;36m\u001b[0m\n\u001b[0;31m    print(f\"my age is :{myage})\u001b[0m\n\u001b[0m          ^\u001b[0m\n\u001b[0;31mSyntaxError\u001b[0m\u001b[0;31m:\u001b[0m unterminated string literal (detected at line 1)\n"
     ]
    }
   ],
   "source": [
    "print(f\"my age is :{myage})"
   ]
  },
  {
   "cell_type": "code",
   "execution_count": 26,
   "id": "63538ecb-d0b3-40ad-93d4-123dfd6c02b3",
   "metadata": {},
   "outputs": [
    {
     "name": "stdout",
     "output_type": "stream",
     "text": [
      " my age is 37\n"
     ]
    }
   ],
   "source": [
    "myage=37\n",
    "print(f\" my age is {myage}\")"
   ]
  },
  {
   "cell_type": "code",
   "execution_count": 27,
   "id": "79318427-d2b8-4c0b-a15e-d7bd6c74937f",
   "metadata": {},
   "outputs": [],
   "source": [
    "#fstring use in print function.\n",
    "##It understands the curly braces"
   ]
  },
  {
   "cell_type": "code",
   "execution_count": 28,
   "id": "c1bb86f7-78cc-4f6c-88a3-49065a924317",
   "metadata": {},
   "outputs": [],
   "source": [
    "#fstring \n"
   ]
  },
  {
   "cell_type": "code",
   "execution_count": 29,
   "id": "c98fc24c-3216-442a-8afc-174579813627",
   "metadata": {},
   "outputs": [],
   "source": [
    "#format way"
   ]
  },
  {
   "cell_type": "code",
   "execution_count": 30,
   "id": "616e1db3-e83f-42d0-960a-7801caf11efa",
   "metadata": {},
   "outputs": [],
   "source": [
    "#indexing of numbers start from zero"
   ]
  },
  {
   "cell_type": "code",
   "execution_count": 36,
   "id": "edec8a57-6c49-4d16-b5d6-fa7116d3aa71",
   "metadata": {},
   "outputs": [
    {
     "name": "stdout",
     "output_type": "stream",
     "text": [
      "my name is zubair and age is 32\n",
      "my name is (firstname) and age is (firstage)\n"
     ]
    }
   ],
   "source": [
    "name=\"zubair\"\n",
    "age=32\n",
    "print(\"my name is {} and age is {}\".format(name,age))\n",
    "print(\"my name is (firstname) and age is (firstage)\".format(firstage=age,firstname=name))"
   ]
  },
  {
   "cell_type": "code",
   "execution_count": 34,
   "id": "ec463e05-4d08-419b-9b85-620c2e32bf88",
   "metadata": {},
   "outputs": [
    {
     "name": "stdout",
     "output_type": "stream",
     "text": [
      "my name is (firstname) and age is (firstage)\n"
     ]
    }
   ],
   "source": [
    "print(\"my name is (firstname) and age is (firstage)\".format(firstage=age,firstname=name))"
   ]
  },
  {
   "cell_type": "code",
   "execution_count": 38,
   "id": "a8554bc7-d529-4ba4-b824-96187d170577",
   "metadata": {},
   "outputs": [
    {
     "name": "stdout",
     "output_type": "stream",
     "text": [
      "my name is (firstname) and age is (firstage)\n"
     ]
    }
   ],
   "source": [
    "name=\"zubair\"\n",
    "age=34\n",
    "print(\"my name is (firstname) and age is (firstage)\".format(firstage=age,firstname=name))"
   ]
  },
  {
   "cell_type": "code",
   "execution_count": null,
   "id": "6d7efd9e-c3ba-4821-8fbe-34cc09a9e009",
   "metadata": {},
   "outputs": [],
   "source": []
  },
  {
   "cell_type": "code",
   "execution_count": 46,
   "id": "7c2a1065-a244-451d-b511-1df5171f6f2a",
   "metadata": {},
   "outputs": [
    {
     "name": "stdout",
     "output_type": "stream",
     "text": [
      "my name is (firstname) and age is (firstage)\n"
     ]
    }
   ],
   "source": [
    "print(f\"my name is (firstname) and age is (firstage)\".format(firstage=age,firstname=name))"
   ]
  },
  {
   "cell_type": "code",
   "execution_count": 43,
   "id": "0881ccdd-1178-4664-b106-2ed56704842e",
   "metadata": {},
   "outputs": [
    {
     "name": "stdout",
     "output_type": "stream",
     "text": [
      "my age is 37 and i have completed my degree of btech with the name zubair aziz\n"
     ]
    }
   ],
   "source": [
    "name=\"zubair aziz\"\n",
    "age=37\n",
    "degree=\"btech\"\n",
    "print(\"my age is {} and i have completed my degree of {} with the name {}\".format(age,degree,name))"
   ]
  },
  {
   "cell_type": "code",
   "execution_count": 51,
   "id": "c67007ee-019f-4201-bae3-408da72af59f",
   "metadata": {},
   "outputs": [],
   "source": [
    "name=\"zubair aziz\"\n",
    "age=37\n",
    "degree=\"btech\"\n",
    "\n"
   ]
  },
  {
   "cell_type": "code",
   "execution_count": 54,
   "id": "09796508-fabc-46bc-8949-552a72b09461",
   "metadata": {},
   "outputs": [
    {
     "name": "stdout",
     "output_type": "stream",
     "text": [
      "my age is 37 and i have completed my degree of btech with the name zubair aziz\n"
     ]
    }
   ],
   "source": [
    "print(f\"my age is {age} and i have completed my degree of {degree} with the name {name}\")"
   ]
  },
  {
   "cell_type": "markdown",
   "id": "96e78e57-5ec7-48fd-a123-e4e627b3575c",
   "metadata": {},
   "source": [
    "#Control flow"
   ]
  },
  {
   "cell_type": "markdown",
   "id": "62c8ee3a-dc19-4c4d-be0a-5bde550da1fb",
   "metadata": {},
   "source": [
    "###Decision making statements"
   ]
  },
  {
   "cell_type": "code",
   "execution_count": 55,
   "id": "26d1d949-1f82-466e-ac3d-72354963467b",
   "metadata": {},
   "outputs": [
    {
     "ename": "SyntaxError",
     "evalue": "invalid syntax (2892821425.py, line 3)",
     "output_type": "error",
     "traceback": [
      "\u001b[0;36m  Cell \u001b[0;32mIn[55], line 3\u001b[0;36m\u001b[0m\n\u001b[0;31m    if elif else\u001b[0m\n\u001b[0m       ^\u001b[0m\n\u001b[0;31mSyntaxError\u001b[0m\u001b[0;31m:\u001b[0m invalid syntax\n"
     ]
    }
   ],
   "source": [
    "###if\n",
    "ifelse\n",
    "if elif else\n",
    "nested if\n",
    "single statement suites\n"
   ]
  },
  {
   "cell_type": "code",
   "execution_count": 58,
   "id": "4464654c-40c6-4643-9a6f-ad624b2f2723",
   "metadata": {},
   "outputs": [
    {
     "name": "stdout",
     "output_type": "stream",
     "text": [
      "16\n"
     ]
    }
   ],
   "source": [
    "age=16\n",
    "if age>=15:\n",
    "    print(age)"
   ]
  },
  {
   "cell_type": "code",
   "execution_count": 59,
   "id": "84ab279c-8f28-46da-8a17-cf06dbfb690d",
   "metadata": {},
   "outputs": [
    {
     "data": {
      "text/plain": [
       "True"
      ]
     },
     "execution_count": 59,
     "metadata": {},
     "output_type": "execute_result"
    }
   ],
   "source": [
    "1<4"
   ]
  },
  {
   "cell_type": "code",
   "execution_count": 60,
   "id": "a1efe4a6-9d82-432c-9071-69cefbbd305b",
   "metadata": {},
   "outputs": [
    {
     "name": "stdin",
     "output_type": "stream",
     "text": [
      " zubair\n"
     ]
    },
    {
     "data": {
      "text/plain": [
       "'zubair'"
      ]
     },
     "execution_count": 60,
     "metadata": {},
     "output_type": "execute_result"
    }
   ],
   "source": [
    "input()"
   ]
  },
  {
   "cell_type": "code",
   "execution_count": 61,
   "id": "84dc67bd-ac5b-4046-8e03-8ac8ea9c7da9",
   "metadata": {},
   "outputs": [
    {
     "name": "stdin",
     "output_type": "stream",
     "text": [
      " sharleez\n"
     ]
    }
   ],
   "source": [
    "name=input()"
   ]
  },
  {
   "cell_type": "code",
   "execution_count": 62,
   "id": "870cdf01-581a-4e5f-9ff8-bd9ea8e8b6f9",
   "metadata": {},
   "outputs": [
    {
     "name": "stdin",
     "output_type": "stream",
     "text": [
      "enter the name zubair\n"
     ]
    }
   ],
   "source": [
    "name=input(\"enter the name\")"
   ]
  },
  {
   "cell_type": "code",
   "execution_count": 63,
   "id": "03a7c14d-e323-4ec2-9e3c-4f86499afda2",
   "metadata": {},
   "outputs": [
    {
     "name": "stdin",
     "output_type": "stream",
     "text": [
      "enter your age 32\n"
     ]
    }
   ],
   "source": [
    "age=int(input(\"enter your age\"))"
   ]
  },
  {
   "cell_type": "code",
   "execution_count": 64,
   "id": "fce35554-ca4f-4ed0-a2dc-fc8ac728d819",
   "metadata": {},
   "outputs": [
    {
     "data": {
      "text/plain": [
       "int"
      ]
     },
     "execution_count": 64,
     "metadata": {},
     "output_type": "execute_result"
    }
   ],
   "source": [
    "type(age)"
   ]
  },
  {
   "cell_type": "code",
   "execution_count": 65,
   "id": "55018003-a971-4a36-b056-c7d60d4b3fde",
   "metadata": {},
   "outputs": [
    {
     "data": {
      "text/plain": [
       "32"
      ]
     },
     "execution_count": 65,
     "metadata": {},
     "output_type": "execute_result"
    }
   ],
   "source": [
    "age"
   ]
  },
  {
   "cell_type": "code",
   "execution_count": null,
   "id": "b619c130-b2cc-4b09-9a8d-cd004df1f29d",
   "metadata": {},
   "outputs": [],
   "source": [
    "age=int(input(\"enter age\"))\n",
    "if age>18:\n",
    "    print(\"age is greater than 18 and less than 30 and u r young blood\")"
   ]
  },
  {
   "cell_type": "code",
   "execution_count": null,
   "id": "43a2fd7d-7ecd-4a12-a25f-fe209b437e70",
   "metadata": {},
   "outputs": [],
   "source": [
    "age=int(input(\"enter the age\"))\n",
    "if age>=18 and age<=40:\n",
    "    print(\"age is greater than 18 and less than 30 and u r young blood\")"
   ]
  },
  {
   "cell_type": "code",
   "execution_count": null,
   "id": "a364f8a8-07a0-485a-8658-d99668b0f319",
   "metadata": {},
   "outputs": [],
   "source": [
    "a=int(input(\"enter ur class\"))\n",
    "if a<=5 and a>=1:\n",
    "    print(\"class between 1 and 5\")"
   ]
  },
  {
   "cell_type": "code",
   "execution_count": null,
   "id": "e0c01416-9c3d-4ed4-8614-1e68f9231301",
   "metadata": {},
   "outputs": [],
   "source": [
    "a=1\n"
   ]
  },
  {
   "cell_type": "code",
   "execution_count": null,
   "id": "77f8781e-94cf-4703-90eb-45194b3d03cd",
   "metadata": {},
   "outputs": [],
   "source": []
  }
 ],
 "metadata": {
  "kernelspec": {
   "display_name": "Python 3 (ipykernel)",
   "language": "python",
   "name": "python3"
  },
  "language_info": {
   "codemirror_mode": {
    "name": "ipython",
    "version": 3
   },
   "file_extension": ".py",
   "mimetype": "text/x-python",
   "name": "python",
   "nbconvert_exporter": "python",
   "pygments_lexer": "ipython3",
   "version": "3.10.8"
  }
 },
 "nbformat": 4,
 "nbformat_minor": 5
}
